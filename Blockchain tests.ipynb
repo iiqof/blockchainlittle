{
 "cells": [
  {
   "cell_type": "code",
   "execution_count": 1,
   "metadata": {},
   "outputs": [],
   "source": [
    "from MyBlockchain import *"
   ]
  },
  {
   "cell_type": "code",
   "execution_count": 2,
   "metadata": {},
   "outputs": [],
   "source": [
    "angecoin = BlockChain(3)"
   ]
  },
  {
   "cell_type": "code",
   "execution_count": 3,
   "metadata": {},
   "outputs": [
    {
     "data": {
      "text/plain": [
       "[<MyBlockchain.Block instance at 0x7f84e8aa2c68>]"
      ]
     },
     "execution_count": 3,
     "metadata": {},
     "output_type": "execute_result"
    }
   ],
   "source": [
    "angecoin.chain"
   ]
  },
  {
   "cell_type": "code",
   "execution_count": 4,
   "metadata": {},
   "outputs": [
    {
     "name": "stdout",
     "output_type": "stream",
     "text": [
      "Nonce:              0hB\n",
      "Index:              0\n",
      "Data:               Genesis Block\n",
      "Previous Block Hash:0\n",
      "\n"
     ]
    },
    {
     "data": {
      "text/plain": [
       "0"
      ]
     },
     "execution_count": 4,
     "metadata": {},
     "output_type": "execute_result"
    }
   ],
   "source": [
    "headb(angecoin).display()"
   ]
  },
  {
   "cell_type": "code",
   "execution_count": 5,
   "metadata": {},
   "outputs": [],
   "source": [
    "newb = createb(\"Y este es el segundo bloque\", headb(angecoin))"
   ]
  },
  {
   "cell_type": "code",
   "execution_count": 6,
   "metadata": {},
   "outputs": [
    {
     "data": {
      "text/plain": [
       "('7323cf633b8bed0614f201da9b349b190ee5bc64c3e27516bf05f36c509fb78e', 0)"
      ]
     },
     "execution_count": 6,
     "metadata": {},
     "output_type": "execute_result"
    }
   ],
   "source": [
    "get_hash(newb), newb.nonce"
   ]
  },
  {
   "cell_type": "code",
   "execution_count": 7,
   "metadata": {},
   "outputs": [
    {
     "name": "stdout",
     "output_type": "stream",
     "text": [
      "Invalid Block\n"
     ]
    },
    {
     "data": {
      "text/plain": [
       "-1"
      ]
     },
     "execution_count": 7,
     "metadata": {},
     "output_type": "execute_result"
    }
   ],
   "source": [
    "angecoin.accb(newb,2)"
   ]
  },
  {
   "cell_type": "code",
   "execution_count": 8,
   "metadata": {},
   "outputs": [
    {
     "data": {
      "text/plain": [
       "0"
      ]
     },
     "execution_count": 8,
     "metadata": {},
     "output_type": "execute_result"
    }
   ],
   "source": [
    "get_nonce(newb,2)"
   ]
  },
  {
   "cell_type": "code",
   "execution_count": 9,
   "metadata": {
    "scrolled": true
   },
   "outputs": [
    {
     "data": {
      "text/plain": [
       "('000cbba7f56b553df02c338319f5b0295165037c6beeed24eebbf8db705d629c', '1r')"
      ]
     },
     "execution_count": 9,
     "metadata": {},
     "output_type": "execute_result"
    }
   ],
   "source": [
    "get_hash(newb), newb.nonce"
   ]
  },
  {
   "cell_type": "code",
   "execution_count": 10,
   "metadata": {},
   "outputs": [
    {
     "name": "stdout",
     "output_type": "stream",
     "text": [
      "Valid Block\n"
     ]
    },
    {
     "data": {
      "text/plain": [
       "0"
      ]
     },
     "execution_count": 10,
     "metadata": {},
     "output_type": "execute_result"
    }
   ],
   "source": [
    "angecoin.accb(newb,2)"
   ]
  },
  {
   "cell_type": "code",
   "execution_count": 11,
   "metadata": {},
   "outputs": [
    {
     "name": "stdout",
     "output_type": "stream",
     "text": [
      "Nonce:              0hB\n",
      "Index:              0\n",
      "Data:               Genesis Block\n",
      "Previous Block Hash:0\n",
      "\n",
      "Nonce:              1r\n",
      "Index:              1\n",
      "Data:               Y este es el segundo bloque\n",
      "Previous Block Hash:0003e0aa5982048527646aef65a2722f168fe6becd3eb860c01e344bbb7a9d48\n",
      "\n"
     ]
    },
    {
     "data": {
      "text/plain": [
       "0"
      ]
     },
     "execution_count": 11,
     "metadata": {},
     "output_type": "execute_result"
    }
   ],
   "source": [
    "angecoin.displayc(\"FULL\")"
   ]
  },
  {
   "cell_type": "code",
   "execution_count": 12,
   "metadata": {},
   "outputs": [
    {
     "data": {
      "text/plain": [
       "'000cbba7f56b553df02c338319f5b0295165037c6beeed24eebbf8db705d629c'"
      ]
     },
     "execution_count": 12,
     "metadata": {},
     "output_type": "execute_result"
    }
   ],
   "source": [
    "get_hash(headb(angecoin))"
   ]
  },
  {
   "cell_type": "code",
   "execution_count": 13,
   "metadata": {},
   "outputs": [
    {
     "name": "stdout",
     "output_type": "stream",
     "text": [
      "#0hB@0%Genesis Block$0#1r@1%Y este es el segundo bloque$0003e0aa5982048527646aef65a2722f168fe6becd3eb860c01e344bbb7a9d48\n"
     ]
    }
   ],
   "source": [
    "print(angecoin.displayc(\" \"))"
   ]
  },
  {
   "cell_type": "code",
   "execution_count": 14,
   "metadata": {},
   "outputs": [
    {
     "name": "stdout",
     "output_type": "stream",
     "text": [
      "Valid Block\n"
     ]
    },
    {
     "data": {
      "text/plain": [
       "0"
      ]
     },
     "execution_count": 14,
     "metadata": {},
     "output_type": "execute_result"
    }
   ],
   "source": [
    "newb = createb(\"Espero que funcione\", headb(angecoin))\n",
    "get_nonce(newb, 3)\n",
    "angecoin.accb(newb,3)"
   ]
  },
  {
   "cell_type": "code",
   "execution_count": 15,
   "metadata": {},
   "outputs": [
    {
     "name": "stdout",
     "output_type": "stream",
     "text": [
      "Valid Block\n"
     ]
    },
    {
     "data": {
      "text/plain": [
       "0"
      ]
     },
     "execution_count": 15,
     "metadata": {},
     "output_type": "execute_result"
    }
   ],
   "source": [
    "newb = createb(\"Y otra vez\", headb(angecoin))\n",
    "get_nonce(newb, 4)\n",
    "angecoin.accb(newb,4)"
   ]
  },
  {
   "cell_type": "code",
   "execution_count": 16,
   "metadata": {},
   "outputs": [
    {
     "name": "stdout",
     "output_type": "stream",
     "text": [
      "Valid Block\n"
     ]
    },
    {
     "data": {
      "text/plain": [
       "0"
      ]
     },
     "execution_count": 16,
     "metadata": {},
     "output_type": "execute_result"
    }
   ],
   "source": [
    "newb = createb(\"Y otra\", headb(angecoin))\n",
    "get_nonce(newb, 5)\n",
    "angecoin.accb(newb,5)"
   ]
  },
  {
   "cell_type": "code",
   "execution_count": 17,
   "metadata": {},
   "outputs": [
    {
     "name": "stdout",
     "output_type": "stream",
     "text": [
      "Nonce:              0hB\n",
      "Index:              0\n",
      "Data:               Genesis Block\n",
      "Previous Block Hash:0\n",
      "\n",
      "Nonce:              1r\n",
      "Index:              1\n",
      "Data:               Y este es el segundo bloque\n",
      "Previous Block Hash:0003e0aa5982048527646aef65a2722f168fe6becd3eb860c01e344bbb7a9d48\n",
      "\n",
      "Nonce:              1A9\n",
      "Index:              2\n",
      "Data:               Espero que funcione\n",
      "Previous Block Hash:000cbba7f56b553df02c338319f5b0295165037c6beeed24eebbf8db705d629c\n",
      "\n",
      "Nonce:              ayM\n",
      "Index:              3\n",
      "Data:               Y otra vez\n",
      "Previous Block Hash:000433214cd9de427861145ad5bb8d261e13a3566fb43ff5fa154d743ebb7d5e\n",
      "\n",
      "Nonce:              0L3x\n",
      "Index:              4\n",
      "Data:               Y otra\n",
      "Previous Block Hash:00006cdba4f1216aa34cf45a3860061bb3dfb5126890da0e9c7a9e2a7518b979\n",
      "\n"
     ]
    },
    {
     "data": {
      "text/plain": [
       "0"
      ]
     },
     "execution_count": 17,
     "metadata": {},
     "output_type": "execute_result"
    }
   ],
   "source": [
    "angecoin.displayc(\"FULL\")"
   ]
  },
  {
   "cell_type": "code",
   "execution_count": 18,
   "metadata": {},
   "outputs": [
    {
     "data": {
      "text/plain": [
       "0"
      ]
     },
     "execution_count": 18,
     "metadata": {},
     "output_type": "execute_result"
    }
   ],
   "source": [
    "save(angecoin, \"blockchain\")"
   ]
  },
  {
   "cell_type": "code",
   "execution_count": 19,
   "metadata": {},
   "outputs": [],
   "source": [
    "angecopy = loadc('blockchain.bc')"
   ]
  },
  {
   "cell_type": "code",
   "execution_count": 21,
   "metadata": {},
   "outputs": [
    {
     "name": "stdout",
     "output_type": "stream",
     "text": [
      "Nonce:              0\n",
      "Index:              0\n",
      "Data:               Genesis Block\n",
      "Previous Block Hash:0\n",
      "\n",
      "Nonce:              0hB\n",
      "Index:              0\n",
      "Data:               Genesis Block\n",
      "Previous Block Hash:0\n",
      "\n",
      "Nonce:              1r\n",
      "Index:              1\n",
      "Data:               Y este es el segundo bloque\n",
      "Previous Block Hash:0003e0aa5982048527646aef65a2722f168fe6becd3eb860c01e344bbb7a9d48\n",
      "\n",
      "Nonce:              1A9\n",
      "Index:              2\n",
      "Data:               Espero que funcione\n",
      "Previous Block Hash:000cbba7f56b553df02c338319f5b0295165037c6beeed24eebbf8db705d629c\n",
      "\n",
      "Nonce:              ayM\n",
      "Index:              3\n",
      "Data:               Y otra vez\n",
      "Previous Block Hash:000433214cd9de427861145ad5bb8d261e13a3566fb43ff5fa154d743ebb7d5e\n",
      "\n",
      "Nonce:              0L3x\n",
      "Index:              4\n",
      "Data:               Y otra\n",
      "Previous Block Hash:00006cdba4f1216aa34cf45a3860061bb3dfb5126890da0e9c7a9e2a7518b979\n",
      "\n"
     ]
    },
    {
     "data": {
      "text/plain": [
       "0"
      ]
     },
     "execution_count": 21,
     "metadata": {},
     "output_type": "execute_result"
    }
   ],
   "source": [
    "angecopy.displayc(\"FULL\")"
   ]
  },
  {
   "cell_type": "code",
   "execution_count": 22,
   "metadata": {},
   "outputs": [
    {
     "name": "stdout",
     "output_type": "stream",
     "text": [
      "Valid Block\n"
     ]
    },
    {
     "data": {
      "text/plain": [
       "0"
      ]
     },
     "execution_count": 22,
     "metadata": {},
     "output_type": "execute_result"
    }
   ],
   "source": [
    "newb = createb(\"Y otra\", headb(angecoin))\n",
    "get_nonce(newb, 6)\n",
    "angecoin.accb(newb,6)"
   ]
  },
  {
   "cell_type": "code",
   "execution_count": null,
   "metadata": {},
   "outputs": [],
   "source": []
  }
 ],
 "metadata": {
  "kernelspec": {
   "display_name": "Python 3",
   "language": "python",
   "name": "python3"
  },
  "language_info": {
   "codemirror_mode": {
    "name": "ipython",
    "version": 2
   },
   "file_extension": ".py",
   "mimetype": "text/x-python",
   "name": "python",
   "nbconvert_exporter": "python",
   "pygments_lexer": "ipython2",
   "version": "2.7.13"
  }
 },
 "nbformat": 4,
 "nbformat_minor": 2
}
